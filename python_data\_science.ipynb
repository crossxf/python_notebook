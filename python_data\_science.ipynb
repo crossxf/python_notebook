# Intro to Python

## Pandas

### Pandas Data Structure

#### Dataframe

`.shape()` gives the dimension of the dataframe.
