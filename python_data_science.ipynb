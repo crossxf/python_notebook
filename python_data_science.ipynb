


> Written with [StackEdit](https://stackedit.io/).

# Intro to Python

[TOC]

## Pandas

### Pandas Data Structure

#### Dataframe

`.shape()` gives the dimension of the dataframe.

#### Data Series

### File I/O

#### Importing Data

##### Importing CSV file

```python
df = pd.read_csv('ar_info.csv', dtype={'contract_nbr':str}) # forcing data to be str
```

##### Importing Fixed Width file

Importing with fixed width files. [Documentation](https://pandas.pydata.org/pandas-docs/stable/generated/pandas.read_fwf.html)

```python
df = pd.read_fwf('data/public_database/FedACHdir.txt', 
                                     widths = [9, 1, 9, 1, 6, 9, 36, 36, 20, 2, 5, 4, 3, 3, 4, 1, 1, 5], 
                                     header = None, 
                                     names = ['routing_number', 'office_code', 'servicing_frb_number', 'record_type_code', 'change_date', 'new_routing_number', 'customer_name', 'address', 'city', 'state_code', 'zipcode', 'zipcode_extension', 'telephone_area_code', 'telephone_prefix_number', 'telephone_suffix_number', 'institution_status_code', 'data_view_code', 'filler'],
                                    converters = {'routing_number': str})
```
`width` specifies the width of each columns.
`header` default value is 0. If header does not exist, it needs to be set to **None**.
`names` passes a array of names as column headers.
`converters` acts as `dtype` and preserve the data type of a field.

#### Exporting

##### CSV

Dataframe objects have `.to_csv` method ([Documentation](https://pandas.pydata.org/pandas-docs/stable/generated/pandas.DataFrame.to_csv.html)). By default, the method will preserve index (row names) when exporting. Setting `index = False` will take care of this problem.

```python
df.to_csv('file.csv', index = False)
```


### Basic Pandas Methods & Functions

#### Value Assignment

##### Conditional value assignment

This is the equivalent of `ifelse` in R. It is also row rise operation.

```python
import numpy as np
q2['match_type'] = np.where(q2['DDA'].isnull(), 'No DDA', np.where(q2['DDA'].notnull() & q2['customer_name'].isnull(), 'No match', 'Match'))
```

#### Column names

Below code will change the column name.

```python
df.rename(columns={"old_colname": "new_colname"})
```

#### Unique

```python
import pandas as pd
df['columnname'].unique
```

#### Sort

```python
import pandas as pd
DataFrame.sort_values(by, axis=0, ascending=True, inplace=False, kind='quicksort', na_position='last')
```

#### Join

```python
pd.merge(q2, frb_routing_number, left_on = 'DDA', right_on = 'routing_number', how = 'left')
```

#### Append

`append` is a dataframe object method. It allows another object to be appended to the desired object.

```python
p = p1.append(p2).append(p3)
```

Different from `bind_rows` in R, the column names must be the same, or append will force new column to be created.

#### Rename

```python
df.rename(columns={"new_routing_number": "routing_number"})
```

#### Duplicate

##### Show Duplicate
```python
df.duplicated()
```

##### Drop Duplicate

```python
df.drop_duplicates()
```

#### Pivot Table

[Documentation here.](https://pandas.pydata.org/pandas-docs/stable/reshaping.html#reshaping-and-pivot-tables)

```python
titanic.pivot_table(index='sex', columns='class',
                    aggfunc={'survived':sum, 'fare':'mean'})
```

When using pivot table, be careful that if the index has missing value, an `NaN` category will not be created automatically. Instead, you have to use a [work around](https://stackoverflow.com/questions/16860172/python-pandas-pivot-table-silently-drops-indices-with-nans).

> This part is not yet finished

```python
df['b'] = df['b'].fillna('error')
```

Sometimes you want pivot table to be arrange in the exact way you intended. For that reason, you might want to set categorical variables and arrange then in the desired order.

```python
q["loan_status"] = q["loan_status"].astype("category")
q["loan_status"].cat.set_categories(['CUR', '30A', '30D', '60D', 'NAC', 'WOF', 'CLS'],inplace=True)
```


#### Pivot Table functions

Count: `count`
Sum: `sum`
Equivalent of `n_distinct` : `lambda x: len(x.unique())` OR `lambda x: x.nunique()`

Usage:
```python
q3.pivot_table(index = 'match_type', aggfunc = {'contract_nbr':lambda x: len(x.unique())})
```

### Piping

Pipe allows chaining several method consecutively, to perform a series of operations, each based on the result of the last operation. Pandas authors [prefer this method over subclass](https://pandas.pydata.org/pandas-docs/stable/internals.html#subclassing-pandas-data-structures) because of its simplicity.

Piping allows the use of functions in a way similar to class method. For example, to apply h, g, f in this order on `df` can be done using pipe in the following way:

```python
>>> (df.pipe(h)
       .pipe(g, arg1=1)
       .pipe(f, arg2=2, arg3=3)
    )
```

#### Using Chaining and Pivot table together


```
(q.query('loan_status != "CLS"')				
 .sort_values('AR', ascending = False)
 .pivot_table(index = 'loan_status',
 columns = 'ageing_status', 
 aggfunc = {'contract_nbr':'count', 'AR':sum})
)
```

Note that column is not necessary.


### Data Tricks

#### Change Pandas display format to dollar

Below code will change the global setting and will turn all floats into '$' format.

```python
import pandas as pd
pd.options.display.float_format = '${:,.2f}'.format
df = pd.DataFrame([123.4567, 234.5678, 345.6789, 456.7890],
                  index=['foo','bar','baz','quux'],
                  columns=['cost'])
print(df)
```

But if you don't want the formatting to be applied globally.

```python
import pandas as pd
df['foo'] = df['cost']
df['cost'] = df['cost'].map('${:,.2f}'.format)
print(df)
```

[StackOverFlow](https://stackoverflow.com/questions/20937538/how-to-display-pandas-dataframe-of-floats-using-a-format-string-for-columns)


#### Convert Pandas Series to DF


```python
import pandas as pd
pd.Series(loan_type_dict).to_frame().reset_index().rename(columns= {'index':'loan_typ', 0: 'loan_cat'})
```
[StackOverFlow](https://stackoverflow.com/questions/26097916/python-best-way-to-convert-a-pandas-series-into-a-pandas-dataframe)



#### Convert date to quarter

The below method has better performance and greater data consistency.

```python
q["qtr"] = pd.to_datetime(q['amort_date'].values, format='%Y-%m').astype('period[Q]')
```
